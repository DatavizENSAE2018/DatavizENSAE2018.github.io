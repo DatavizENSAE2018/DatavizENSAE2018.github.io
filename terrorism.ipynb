{
 "cells": [
  {
   "cell_type": "code",
   "execution_count": 2,
   "metadata": {},
   "outputs": [],
   "source": [
    "import pandas as pd\n",
    "import numpy as np\n",
    "import matplotlib.pyplot as plt\n",
    "import json"
   ]
  },
  {
   "cell_type": "code",
   "execution_count": 3,
   "metadata": {},
   "outputs": [
    {
     "name": "stderr",
     "output_type": "stream",
     "text": [
      "/Library/Frameworks/Python.framework/Versions/3.6/lib/python3.6/site-packages/IPython/core/interactiveshell.py:2723: DtypeWarning: Columns (4,6,31,33,53,61,62,63,76,79,90,92,94,96,114,115,121) have mixed types. Specify dtype option on import or set low_memory=False.\n",
      "  interactivity=interactivity, compiler=compiler, result=result)\n"
     ]
    }
   ],
   "source": [
    "file = pd.read_csv(\"/Users/Nicolas/Desktop/globalterrorismdb_0617dist.csv\", encoding = \"latin-1\")"
   ]
  },
  {
   "cell_type": "code",
   "execution_count": 40,
   "metadata": {},
   "outputs": [],
   "source": [
    "natvsislam = pd.DataFrame({'Islamistes': {'Business': 5.0,\n",
    "  'Gouvernement': 10.0,\n",
    "  'Militaire': 22.0,\n",
    "  'Police': 19.0,\n",
    "  'Civil': 27.0,\n",
    "  'Autres': 15.0},\n",
    " 'Nationalistes': {'Business': 14.0,\n",
    "  'Gouvernement': 11.0,\n",
    "  'Militaire': 21.0,\n",
    "  'Police': 16.0,\n",
    "  'Civil': 17.0,\n",
    "  'Autres': 19.0}})"
   ]
  },
  {
   "cell_type": "code",
   "execution_count": 42,
   "metadata": {},
   "outputs": [],
   "source": [
    "natvsislam_pt = []\n",
    "for k, row in natvsislam.iterrows():\n",
    "    natvsislam_pt.append({\n",
    "    'type': \"stackedBar100\",\n",
    "    'toolTipContent': \"{label}<br><b>{name}:</b> {y} (#percent%)\",\n",
    "    'showInLegend': True, \n",
    "    'name': k,\n",
    "    'dataPoints': [\n",
    "                    { 'y': row['Nationalistes'], 'label': 'Nationalistes' },\n",
    "                    { 'y': row['Islamistes'], 'label': 'Islamistes' }]\n",
    "    })"
   ]
  },
  {
   "cell_type": "code",
   "execution_count": 44,
   "metadata": {
    "scrolled": true
   },
   "outputs": [],
   "source": [
    "with open('/Users/Nicolas/dev/dataviz/DatavizENSAE2018.github.io/data_json/natvsislam.json', 'w') as outfile:  \n",
    "    json.dump(natvsislam_pt, outfile)"
   ]
  },
  {
   "cell_type": "markdown",
   "metadata": {},
   "source": [
    "# COUNTRY"
   ]
  },
  {
   "cell_type": "code",
   "execution_count": 15,
   "metadata": {},
   "outputs": [],
   "source": [
    "brut_cnty = file[['iyear', 'nkill', 'weaptype1_txt', 'country_txt']]\n",
    "cnty = brut_cnty.dropna()"
   ]
  },
  {
   "cell_type": "code",
   "execution_count": 16,
   "metadata": {},
   "outputs": [],
   "source": [
    "cnty_mapper = ['Afghanistan', 'Pakistan', 'Nigeria', 'India', 'Syria']\n",
    "french = {'Afghanistan': 'Afghanistan', 'Pakistan': 'Pakistan', 'Nigeria': 'Nigeria', 'India': 'Inde', 'Syria': 'Syrie'}\n",
    "def cntry_map(ct):\n",
    "    if ct in cnty_mapper:\n",
    "        return french[ct]\n",
    "    else:\n",
    "        return 'Autres'"
   ]
  },
  {
   "cell_type": "code",
   "execution_count": 23,
   "metadata": {},
   "outputs": [],
   "source": [
    "cnty_df = pd.DataFrame(list(map(cntry_map, cnty['country_txt'])), columns=['cnty'], index=cnty.index)"
   ]
  },
  {
   "cell_type": "code",
   "execution_count": 24,
   "metadata": {
    "scrolled": true
   },
   "outputs": [
    {
     "data": {
      "text/html": [
       "<div>\n",
       "<table border=\"1\" class=\"dataframe\">\n",
       "  <thead>\n",
       "    <tr style=\"text-align: right;\">\n",
       "      <th></th>\n",
       "      <th>iyear</th>\n",
       "      <th>nkill</th>\n",
       "      <th>weaptype1_txt</th>\n",
       "      <th>country_txt</th>\n",
       "      <th>cnty</th>\n",
       "    </tr>\n",
       "  </thead>\n",
       "  <tbody>\n",
       "    <tr>\n",
       "      <th>0</th>\n",
       "      <td>1970</td>\n",
       "      <td>1.0</td>\n",
       "      <td>Unknown</td>\n",
       "      <td>Dominican Republic</td>\n",
       "      <td>Autres</td>\n",
       "    </tr>\n",
       "    <tr>\n",
       "      <th>1</th>\n",
       "      <td>1970</td>\n",
       "      <td>0.0</td>\n",
       "      <td>Unknown</td>\n",
       "      <td>Mexico</td>\n",
       "      <td>Autres</td>\n",
       "    </tr>\n",
       "    <tr>\n",
       "      <th>2</th>\n",
       "      <td>1970</td>\n",
       "      <td>1.0</td>\n",
       "      <td>Unknown</td>\n",
       "      <td>Philippines</td>\n",
       "      <td>Autres</td>\n",
       "    </tr>\n",
       "    <tr>\n",
       "      <th>5</th>\n",
       "      <td>1970</td>\n",
       "      <td>0.0</td>\n",
       "      <td>Firearms</td>\n",
       "      <td>United States</td>\n",
       "      <td>Autres</td>\n",
       "    </tr>\n",
       "    <tr>\n",
       "      <th>6</th>\n",
       "      <td>1970</td>\n",
       "      <td>0.0</td>\n",
       "      <td>Firearms</td>\n",
       "      <td>Uruguay</td>\n",
       "      <td>Autres</td>\n",
       "    </tr>\n",
       "  </tbody>\n",
       "</table>\n",
       "</div>"
      ],
      "text/plain": [
       "   iyear  nkill weaptype1_txt         country_txt    cnty\n",
       "0   1970    1.0       Unknown  Dominican Republic  Autres\n",
       "1   1970    0.0       Unknown              Mexico  Autres\n",
       "2   1970    1.0       Unknown         Philippines  Autres\n",
       "5   1970    0.0      Firearms       United States  Autres\n",
       "6   1970    0.0      Firearms             Uruguay  Autres"
      ]
     },
     "execution_count": 24,
     "metadata": {},
     "output_type": "execute_result"
    }
   ],
   "source": [
    "cnty.join(cnty_df).head()"
   ]
  },
  {
   "cell_type": "code",
   "execution_count": 25,
   "metadata": {
    "scrolled": true
   },
   "outputs": [],
   "source": [
    "agg_cnty = cnty.join(cnty_df).groupby(['cnty', 'iyear']).agg(['sum'])['nkill']"
   ]
  },
  {
   "cell_type": "code",
   "execution_count": 33,
   "metadata": {
    "scrolled": true
   },
   "outputs": [],
   "source": [
    "cnty_pt = []\n",
    "\n",
    "for i in set(cnty_df['cnty']):\n",
    "    cnty_pt.append({\n",
    "                    'type': \"stackedArea\",\n",
    "                    'showInLegend': True,\n",
    "                    'toolTipContent': \"<span style=\\\"color:#4F81BC\\\"><strong>{name}: </strong></span> {y}\",\n",
    "                    'name': str(i),\n",
    "                    'dataPoints': [dict(x=trick(k), y=int(v)) for k, v in agg_cnty.loc[i].to_dict()['sum'].items()]\n",
    "                })"
   ]
  },
  {
   "cell_type": "code",
   "execution_count": 35,
   "metadata": {
    "scrolled": true
   },
   "outputs": [],
   "source": [
    "with open('/Users/Nicolas/dev/dataviz/DatavizENSAE2018.github.io/data_json/cnty_pt.json', 'w') as outfile:  \n",
    "    json.dump(cnty_pt, outfile)"
   ]
  },
  {
   "cell_type": "markdown",
   "metadata": {},
   "source": [
    "# WEAPON TYPE"
   ]
  },
  {
   "cell_type": "code",
   "execution_count": 4,
   "metadata": {},
   "outputs": [],
   "source": [
    "stacked_bar = file[['iyear', 'nkill', 'weaptype1_txt', 'region_txt']]"
   ]
  },
  {
   "cell_type": "code",
   "execution_count": 5,
   "metadata": {},
   "outputs": [],
   "source": [
    "clean_stacked_bar = stacked_bar.dropna()"
   ]
  },
  {
   "cell_type": "code",
   "execution_count": 279,
   "metadata": {},
   "outputs": [
    {
     "data": {
      "text/plain": [
       "0.056835926034634575"
      ]
     },
     "execution_count": 279,
     "metadata": {},
     "output_type": "execute_result"
    }
   ],
   "source": [
    "nkill = stacked_bar['nkill'].values\n",
    "np.mean(np.isnan(nkill))"
   ]
  },
  {
   "cell_type": "code",
   "execution_count": 189,
   "metadata": {},
   "outputs": [],
   "source": [
    "groupby_sb = clean_stacked_bar.groupby(['weaptype1_txt', 'iyear']).sum()"
   ]
  },
  {
   "cell_type": "code",
   "execution_count": 190,
   "metadata": {
    "scrolled": true
   },
   "outputs": [],
   "source": [
    "clean_gb_sb = groupby_sb[groupby_sb.nkill != 0]"
   ]
  },
  {
   "cell_type": "code",
   "execution_count": 191,
   "metadata": {},
   "outputs": [
    {
     "data": {
      "text/html": [
       "<div>\n",
       "<table border=\"1\" class=\"dataframe\">\n",
       "  <thead>\n",
       "    <tr style=\"text-align: right;\">\n",
       "      <th></th>\n",
       "      <th></th>\n",
       "      <th>nkill</th>\n",
       "    </tr>\n",
       "    <tr>\n",
       "      <th>weaptype1_txt</th>\n",
       "      <th>iyear</th>\n",
       "      <th></th>\n",
       "    </tr>\n",
       "  </thead>\n",
       "  <tbody>\n",
       "    <tr>\n",
       "      <th rowspan=\"2\" valign=\"top\">Biological</th>\n",
       "      <th>2000</th>\n",
       "      <td>2.0</td>\n",
       "    </tr>\n",
       "    <tr>\n",
       "      <th>2001</th>\n",
       "      <td>7.0</td>\n",
       "    </tr>\n",
       "    <tr>\n",
       "      <th rowspan=\"3\" valign=\"top\">Chemical</th>\n",
       "      <th>1973</th>\n",
       "      <td>1.0</td>\n",
       "    </tr>\n",
       "    <tr>\n",
       "      <th>1977</th>\n",
       "      <td>1.0</td>\n",
       "    </tr>\n",
       "    <tr>\n",
       "      <th>1979</th>\n",
       "      <td>1.0</td>\n",
       "    </tr>\n",
       "  </tbody>\n",
       "</table>\n",
       "</div>"
      ],
      "text/plain": [
       "                     nkill\n",
       "weaptype1_txt iyear       \n",
       "Biological    2000     2.0\n",
       "              2001     7.0\n",
       "Chemical      1973     1.0\n",
       "              1977     1.0\n",
       "              1979     1.0"
      ]
     },
     "execution_count": 191,
     "metadata": {},
     "output_type": "execute_result"
    }
   ],
   "source": [
    "clean_gb_sb.head()"
   ]
  },
  {
   "cell_type": "code",
   "execution_count": 32,
   "metadata": {},
   "outputs": [],
   "source": [
    "def trick(date):\n",
    "    return 'new Date('+str(int(date))+',0)'"
   ]
  },
  {
   "cell_type": "code",
   "execution_count": 193,
   "metadata": {},
   "outputs": [],
   "source": [
    "data = []\n",
    "\n",
    "for i in set(clean_stacked_bar['weaptype1_txt'].values):\n",
    "    data.append({\n",
    "        'type': \"stackedColumn100\",\n",
    "        'name': str(i),\n",
    "        'showInLegend': True,\n",
    "        'xValueFormatString': \"YYYY\",\n",
    "        'yValueFormatString': \"#,##0\\\"%\\\"\",\n",
    "        'dataPoints': [dict(x=trick(k), y=int(v)) for k, v in clean_gb_sb.loc[i].to_dict()['nkill'].items()]\n",
    "    })"
   ]
  },
  {
   "cell_type": "code",
   "execution_count": 61,
   "metadata": {},
   "outputs": [
    {
     "data": {
      "text/plain": [
       "[{'x': 2000, 'y': 2}, {'x': 2001, 'y': 7}]"
      ]
     },
     "execution_count": 61,
     "metadata": {},
     "output_type": "execute_result"
    }
   ],
   "source": [
    "[dict(x=k, y=int(v)) for k, v in clean_gb_sb.loc[1].to_dict()['nkill'].items()]"
   ]
  },
  {
   "cell_type": "code",
   "execution_count": 194,
   "metadata": {
    "scrolled": true
   },
   "outputs": [],
   "source": [
    "with open('stacked_bar.json', 'w') as outfile:  \n",
    "    json.dump(data, outfile)"
   ]
  },
  {
   "cell_type": "markdown",
   "metadata": {},
   "source": [
    "# EXPLOSIF VS FIRE WEAPON"
   ]
  },
  {
   "cell_type": "code",
   "execution_count": 6,
   "metadata": {
    "scrolled": true
   },
   "outputs": [],
   "source": [
    "target_ef = clean_stacked_bar.groupby(['weaptype1_txt', 'iyear']).agg(['sum', 'count'])['nkill']"
   ]
  },
  {
   "cell_type": "code",
   "execution_count": 7,
   "metadata": {
    "scrolled": true
   },
   "outputs": [],
   "source": [
    "bombvsfireamr = target_ef.loc[['Explosives/Bombs/Dynamite', 'Firearms']]"
   ]
  },
  {
   "cell_type": "code",
   "execution_count": 8,
   "metadata": {},
   "outputs": [
    {
     "data": {
      "text/html": [
       "<div>\n",
       "<table border=\"1\" class=\"dataframe\">\n",
       "  <thead>\n",
       "    <tr style=\"text-align: right;\">\n",
       "      <th></th>\n",
       "      <th></th>\n",
       "      <th>sum</th>\n",
       "      <th>count</th>\n",
       "    </tr>\n",
       "    <tr>\n",
       "      <th>weaptype1_txt</th>\n",
       "      <th>iyear</th>\n",
       "      <th></th>\n",
       "      <th></th>\n",
       "    </tr>\n",
       "  </thead>\n",
       "  <tbody>\n",
       "    <tr>\n",
       "      <th rowspan=\"5\" valign=\"top\">Explosives/Bombs/Dynamite</th>\n",
       "      <th>1970</th>\n",
       "      <td>97.0</td>\n",
       "      <td>320</td>\n",
       "    </tr>\n",
       "    <tr>\n",
       "      <th>1971</th>\n",
       "      <td>82.0</td>\n",
       "      <td>207</td>\n",
       "    </tr>\n",
       "    <tr>\n",
       "      <th>1972</th>\n",
       "      <td>260.0</td>\n",
       "      <td>167</td>\n",
       "    </tr>\n",
       "    <tr>\n",
       "      <th>1973</th>\n",
       "      <td>80.0</td>\n",
       "      <td>141</td>\n",
       "    </tr>\n",
       "    <tr>\n",
       "      <th>1974</th>\n",
       "      <td>270.0</td>\n",
       "      <td>263</td>\n",
       "    </tr>\n",
       "  </tbody>\n",
       "</table>\n",
       "</div>"
      ],
      "text/plain": [
       "                                   sum  count\n",
       "weaptype1_txt             iyear              \n",
       "Explosives/Bombs/Dynamite 1970    97.0    320\n",
       "                          1971    82.0    207\n",
       "                          1972   260.0    167\n",
       "                          1973    80.0    141\n",
       "                          1974   270.0    263"
      ]
     },
     "execution_count": 8,
     "metadata": {},
     "output_type": "execute_result"
    }
   ],
   "source": [
    "bombvsfireamr.head()"
   ]
  },
  {
   "cell_type": "code",
   "execution_count": 9,
   "metadata": {},
   "outputs": [
    {
     "data": {
      "text/html": [
       "<div>\n",
       "<table border=\"1\" class=\"dataframe\">\n",
       "  <thead>\n",
       "    <tr style=\"text-align: right;\">\n",
       "      <th></th>\n",
       "      <th></th>\n",
       "      <th>eff</th>\n",
       "    </tr>\n",
       "    <tr>\n",
       "      <th>weaptype1_txt</th>\n",
       "      <th>iyear</th>\n",
       "      <th></th>\n",
       "    </tr>\n",
       "  </thead>\n",
       "  <tbody>\n",
       "    <tr>\n",
       "      <th rowspan=\"5\" valign=\"top\">Explosives/Bombs/Dynamite</th>\n",
       "      <th>1970</th>\n",
       "      <td>0.303125</td>\n",
       "    </tr>\n",
       "    <tr>\n",
       "      <th>1971</th>\n",
       "      <td>0.396135</td>\n",
       "    </tr>\n",
       "    <tr>\n",
       "      <th>1972</th>\n",
       "      <td>1.556886</td>\n",
       "    </tr>\n",
       "    <tr>\n",
       "      <th>1973</th>\n",
       "      <td>0.567376</td>\n",
       "    </tr>\n",
       "    <tr>\n",
       "      <th>1974</th>\n",
       "      <td>1.026616</td>\n",
       "    </tr>\n",
       "  </tbody>\n",
       "</table>\n",
       "</div>"
      ],
      "text/plain": [
       "                                      eff\n",
       "weaptype1_txt             iyear          \n",
       "Explosives/Bombs/Dynamite 1970   0.303125\n",
       "                          1971   0.396135\n",
       "                          1972   1.556886\n",
       "                          1973   0.567376\n",
       "                          1974   1.026616"
      ]
     },
     "execution_count": 9,
     "metadata": {},
     "output_type": "execute_result"
    }
   ],
   "source": [
    "eff = pd.DataFrame(bombvsfireamr['sum'].values / bombvsfireamr['count'].values, columns=['eff'], index=bombvsfireamr.index)\n",
    "eff.head()"
   ]
  },
  {
   "cell_type": "code",
   "execution_count": 16,
   "metadata": {},
   "outputs": [],
   "source": [
    "bombvsfireamr_points = []\n",
    "for i in ['Explosives/Bombs/Dynamite', 'Firearms']:\n",
    "    bombvsfireamr_points.append({\n",
    "    'type': \"line\",\n",
    "    'axisYType': \"secondary\",\n",
    "    'name': i,\n",
    "    'showInLegend': True,\n",
    "    'markerSize': 0,\n",
    "    'yValueFormatString': \"$#,###k\",\n",
    "    'dataPoints': [dict(x=trick(k), y=v) for k, v in eff.loc[i].to_dict()['eff'].items()]\n",
    "    })"
   ]
  },
  {
   "cell_type": "code",
   "execution_count": 11,
   "metadata": {
    "scrolled": true
   },
   "outputs": [],
   "source": [
    "with open('/Users/Nicolas/Desktop/bombvsfireamrm.json', 'w') as outfile:  \n",
    "    json.dump(bombvsfireamr_points, outfile)"
   ]
  },
  {
   "cell_type": "code",
   "execution_count": 62,
   "metadata": {},
   "outputs": [],
   "source": [
    "def epoch(dt):\n",
    "    if dt < 1985:\n",
    "        return 1\n",
    "    elif dt < 2000:\n",
    "        return 2\n",
    "    else:\n",
    "        return 3"
   ]
  },
  {
   "cell_type": "code",
   "execution_count": 63,
   "metadata": {
    "scrolled": true
   },
   "outputs": [],
   "source": [
    "eff_decade = eff.loc['Explosives/Bombs/Dynamite']\n",
    "bomb_decade = pd.DataFrame([epoch(i) for i in eff_decade.index], columns=['decade'], index=eff_decade.index)"
   ]
  },
  {
   "cell_type": "code",
   "execution_count": 65,
   "metadata": {
    "scrolled": true
   },
   "outputs": [],
   "source": [
    "bomb_df = eff_decade.join(bomb_decade).groupby(['decade']).agg(['mean'])['eff']"
   ]
  },
  {
   "cell_type": "code",
   "execution_count": 66,
   "metadata": {},
   "outputs": [
    {
     "data": {
      "text/html": [
       "<div>\n",
       "<table border=\"1\" class=\"dataframe\">\n",
       "  <thead>\n",
       "    <tr style=\"text-align: right;\">\n",
       "      <th></th>\n",
       "      <th>mean</th>\n",
       "    </tr>\n",
       "    <tr>\n",
       "      <th>decade</th>\n",
       "      <th></th>\n",
       "    </tr>\n",
       "  </thead>\n",
       "  <tbody>\n",
       "    <tr>\n",
       "      <th>1</th>\n",
       "      <td>0.770242</td>\n",
       "    </tr>\n",
       "    <tr>\n",
       "      <th>2</th>\n",
       "      <td>1.401066</td>\n",
       "    </tr>\n",
       "    <tr>\n",
       "      <th>3</th>\n",
       "      <td>2.619185</td>\n",
       "    </tr>\n",
       "  </tbody>\n",
       "</table>\n",
       "</div>"
      ],
      "text/plain": [
       "            mean\n",
       "decade          \n",
       "1       0.770242\n",
       "2       1.401066\n",
       "3       2.619185"
      ]
     },
     "execution_count": 66,
     "metadata": {},
     "output_type": "execute_result"
    }
   ],
   "source": [
    "bomb_df"
   ]
  },
  {
   "cell_type": "code",
   "execution_count": 72,
   "metadata": {},
   "outputs": [
    {
     "data": {
      "image/png": "[encoded data removed]",
      "text/plain": [
       "<matplotlib.figure.Figure at 0x108505ba8>"
      ]
     },
     "metadata": {},
     "output_type": "display_data"
    }
   ],
   "source": [
    "import matplotlib.pyplot as plt\n",
    "\n",
    "x = bomb_df.index\n",
    "plt.bar(x, bomb_df['mean'])\n",
    "plt.bar(x, decade_df['mean'])\n",
    "\n",
    "plt.show()"
   ]
  },
  {
   "cell_type": "code",
   "execution_count": 81,
   "metadata": {},
   "outputs": [
    {
     "name": "stdout",
     "output_type": "stream",
     "text": [
      "mean decade\n",
      "1    0.770242\n",
      "2    1.401066\n",
      "3    2.619185\n",
      "Name: mean, dtype: float64\n"
     ]
    }
   ],
   "source": [
    "for a, b in bomb_df.iteritems():\n",
    "    print(a,b)"
   ]
  },
  {
   "cell_type": "code",
   "execution_count": 82,
   "metadata": {},
   "outputs": [],
   "source": [
    "bomb_civil = []\n",
    "label_map = {1: '1970-1985', 2: '1986-2000', 3: '2001-2016'}\n",
    "for df, name in zip([bomb_df, decade_df], ['Explosives', 'Civils']):\n",
    "    bomb_civil.append({\n",
    "        'type': \"column\",\n",
    "        'name': name,\n",
    "        'legendText': \"\",\n",
    "        'showInLegend': True,\n",
    "        'dataPoints':[\n",
    "            { 'label': label_map[i], 'y': df.loc[i, 'mean'] } for i in range(1, 4)\n",
    "        ]\n",
    "    })"
   ]
  },
  {
   "cell_type": "code",
   "execution_count": 84,
   "metadata": {},
   "outputs": [],
   "source": [
    "with open('/Users/Nicolas/dev/dataviz/DatavizENSAE2018.github.io/bomb_civil.json', 'w') as outfile:  \n",
    "    json.dump(bomb_civil, outfile)"
   ]
  },
  {
   "cell_type": "markdown",
   "metadata": {},
   "source": [
    "# PIE CHART"
   ]
  },
  {
   "cell_type": "code",
   "execution_count": 115,
   "metadata": {
    "scrolled": true
   },
   "outputs": [
    {
     "data": {
      "text/plain": [
       "{'Abortion Related',\n",
       " 'Airports & Aircraft',\n",
       " 'Business',\n",
       " 'Educational Institution',\n",
       " 'Food or Water Supply',\n",
       " 'Government (Diplomatic)',\n",
       " 'Government (General)',\n",
       " 'Journalists & Media',\n",
       " 'Maritime',\n",
       " 'Military',\n",
       " 'NGO',\n",
       " 'Other',\n",
       " 'Police',\n",
       " 'Private Citizens & Property',\n",
       " 'Religious Figures/Institutions',\n",
       " 'Telecommunication',\n",
       " 'Terrorists/Non-State Militia',\n",
       " 'Tourists',\n",
       " 'Transportation',\n",
       " 'Unknown',\n",
       " 'Utilities',\n",
       " 'Violent Political Party'}"
      ]
     },
     "execution_count": 115,
     "metadata": {},
     "output_type": "execute_result"
    }
   ],
   "source": [
    "set(global_df['targtype1_txt'])"
   ]
  },
  {
   "cell_type": "code",
   "execution_count": 117,
   "metadata": {},
   "outputs": [],
   "source": [
    "to_keep = ['Private Citizens & Property', 'Police', 'Government (Diplomatic)', 'Military', 'Business']\n",
    "def cible_mapper(c):\n",
    "    if c in to_keep:\n",
    "        return c\n",
    "    else:\n",
    "        return 'Other'"
   ]
  },
  {
   "cell_type": "code",
   "execution_count": 90,
   "metadata": {},
   "outputs": [],
   "source": [
    "def epoch2(y):\n",
    "    if y < 1995:\n",
    "        return '1970-1994'\n",
    "    else:\n",
    "        return '1995-2016'"
   ]
  },
  {
   "cell_type": "code",
   "execution_count": 122,
   "metadata": {
    "scrolled": true
   },
   "outputs": [],
   "source": [
    "global_df = file[['iyear', 'nkill', 'targtype1_txt']]\n",
    "epoch_df = pd.DataFrame(list(map(epoch2, global_df['iyear'])), columns=['epoch'], index=global_df.index)\n",
    "target_df = pd.DataFrame(list(map(cible_mapper, global_df['targtype1_txt'])), columns=['target'], index=global_df.index)\n",
    "pie = global_df.join(epoch_df).join(target_df).groupby(['epoch', 'target']).agg(['count'])['nkill']"
   ]
  },
  {
   "cell_type": "code",
   "execution_count": 123,
   "metadata": {},
   "outputs": [
    {
     "data": {
      "text/html": [
       "<div>\n",
       "<table border=\"1\" class=\"dataframe\">\n",
       "  <thead>\n",
       "    <tr style=\"text-align: right;\">\n",
       "      <th></th>\n",
       "      <th></th>\n",
       "      <th>count</th>\n",
       "    </tr>\n",
       "    <tr>\n",
       "      <th>epoch</th>\n",
       "      <th>target</th>\n",
       "      <th></th>\n",
       "    </tr>\n",
       "  </thead>\n",
       "  <tbody>\n",
       "    <tr>\n",
       "      <th rowspan=\"5\" valign=\"top\">1970-1994</th>\n",
       "      <th>Business</th>\n",
       "      <td>8898</td>\n",
       "    </tr>\n",
       "    <tr>\n",
       "      <th>Government (Diplomatic)</th>\n",
       "      <td>1847</td>\n",
       "    </tr>\n",
       "    <tr>\n",
       "      <th>Military</th>\n",
       "      <td>7535</td>\n",
       "    </tr>\n",
       "    <tr>\n",
       "      <th>Other</th>\n",
       "      <td>18809</td>\n",
       "    </tr>\n",
       "    <tr>\n",
       "      <th>Police</th>\n",
       "      <td>6166</td>\n",
       "    </tr>\n",
       "  </tbody>\n",
       "</table>\n",
       "</div>"
      ],
      "text/plain": [
       "                                   count\n",
       "epoch     target                        \n",
       "1970-1994 Business                  8898\n",
       "          Government (Diplomatic)   1847\n",
       "          Military                  7535\n",
       "          Other                    18809\n",
       "          Police                    6166"
      ]
     },
     "execution_count": 123,
     "metadata": {},
     "output_type": "execute_result"
    }
   ],
   "source": [
    "pie.head()"
   ]
  },
  {
   "cell_type": "code",
   "execution_count": 124,
   "metadata": {},
   "outputs": [],
   "source": [
    "pie_chart_points_1 = [{ \"y\": int(v), \"name\": k} for k, v in pie.loc['1970-1994'].iterrows()]\n",
    "pie_chart_points_2 = [{ \"y\": int(v), \"name\": k} for k, v in pie.loc['1995-2016'].iterrows()]"
   ]
  },
  {
   "cell_type": "code",
   "execution_count": 125,
   "metadata": {
    "scrolled": true
   },
   "outputs": [],
   "source": [
    "with open('/Users/Nicolas/dev/dataviz/DatavizENSAE2018.github.io/pie_chart_1970_1994.json', 'w') as outfile:  \n",
    "    json.dump(pie_chart_points_1, outfile)"
   ]
  },
  {
   "cell_type": "code",
   "execution_count": 126,
   "metadata": {},
   "outputs": [],
   "source": [
    "with open('/Users/Nicolas/dev/dataviz/DatavizENSAE2018.github.io/pie_chart_1995_2016.json', 'w') as outfile:  \n",
    "    json.dump(pie_chart_points_2, outfile)"
   ]
  },
  {
   "cell_type": "markdown",
   "metadata": {},
   "source": [
    "# CIVIL BOMB"
   ]
  },
  {
   "cell_type": "code",
   "execution_count": 38,
   "metadata": {},
   "outputs": [
    {
     "data": {
      "text/html": [
       "<div>\n",
       "<table border=\"1\" class=\"dataframe\">\n",
       "  <thead>\n",
       "    <tr style=\"text-align: right;\">\n",
       "      <th></th>\n",
       "      <th>iyear</th>\n",
       "      <th>nkill</th>\n",
       "      <th>weaptype1_txt</th>\n",
       "      <th>targtype1_txt</th>\n",
       "    </tr>\n",
       "  </thead>\n",
       "  <tbody>\n",
       "    <tr>\n",
       "      <th>0</th>\n",
       "      <td>1970</td>\n",
       "      <td>1.0</td>\n",
       "      <td>Unknown</td>\n",
       "      <td>Private Citizens &amp; Property</td>\n",
       "    </tr>\n",
       "    <tr>\n",
       "      <th>28</th>\n",
       "      <td>1970</td>\n",
       "      <td>0.0</td>\n",
       "      <td>Explosives/Bombs/Dynamite</td>\n",
       "      <td>Private Citizens &amp; Property</td>\n",
       "    </tr>\n",
       "    <tr>\n",
       "      <th>29</th>\n",
       "      <td>1970</td>\n",
       "      <td>0.0</td>\n",
       "      <td>Incendiary</td>\n",
       "      <td>Private Citizens &amp; Property</td>\n",
       "    </tr>\n",
       "    <tr>\n",
       "      <th>46</th>\n",
       "      <td>1970</td>\n",
       "      <td>0.0</td>\n",
       "      <td>Explosives/Bombs/Dynamite</td>\n",
       "      <td>Private Citizens &amp; Property</td>\n",
       "    </tr>\n",
       "    <tr>\n",
       "      <th>58</th>\n",
       "      <td>1970</td>\n",
       "      <td>0.0</td>\n",
       "      <td>Explosives/Bombs/Dynamite</td>\n",
       "      <td>Private Citizens &amp; Property</td>\n",
       "    </tr>\n",
       "  </tbody>\n",
       "</table>\n",
       "</div>"
      ],
      "text/plain": [
       "    iyear  nkill              weaptype1_txt                targtype1_txt\n",
       "0    1970    1.0                    Unknown  Private Citizens & Property\n",
       "28   1970    0.0  Explosives/Bombs/Dynamite  Private Citizens & Property\n",
       "29   1970    0.0                 Incendiary  Private Citizens & Property\n",
       "46   1970    0.0  Explosives/Bombs/Dynamite  Private Citizens & Property\n",
       "58   1970    0.0  Explosives/Bombs/Dynamite  Private Citizens & Property"
      ]
     },
     "execution_count": 38,
     "metadata": {},
     "output_type": "execute_result"
    }
   ],
   "source": [
    "cb = file[['iyear', 'nkill', 'weaptype1_txt', 'targtype1_txt']]\n",
    "civil = cb[cb['targtype1_txt']=='Private Citizens & Property']\n",
    "clean_civil = civil.dropna()\n",
    "clean_civil.head()"
   ]
  },
  {
   "cell_type": "code",
   "execution_count": 39,
   "metadata": {
    "scrolled": true
   },
   "outputs": [],
   "source": [
    "agg_civil = clean_civil.groupby(['iyear', 'weaptype1_txt']).agg(['count'])['nkill']"
   ]
  },
  {
   "cell_type": "code",
   "execution_count": 40,
   "metadata": {},
   "outputs": [],
   "source": [
    "n_agg_civil = agg_civil.reset_index(level='weaptype1_txt')"
   ]
  },
  {
   "cell_type": "code",
   "execution_count": 41,
   "metadata": {
    "scrolled": true
   },
   "outputs": [],
   "source": [
    "c_agg_civil = n_agg_civil[n_agg_civil['weaptype1_txt']=='Explosives/Bombs/Dynamite']"
   ]
  },
  {
   "cell_type": "code",
   "execution_count": 42,
   "metadata": {},
   "outputs": [
    {
     "data": {
      "text/html": [
       "<div>\n",
       "<table border=\"1\" class=\"dataframe\">\n",
       "  <thead>\n",
       "    <tr style=\"text-align: right;\">\n",
       "      <th></th>\n",
       "      <th>weaptype1_txt</th>\n",
       "      <th>count</th>\n",
       "    </tr>\n",
       "    <tr>\n",
       "      <th>iyear</th>\n",
       "      <th></th>\n",
       "      <th></th>\n",
       "    </tr>\n",
       "  </thead>\n",
       "  <tbody>\n",
       "    <tr>\n",
       "      <th>1970</th>\n",
       "      <td>Explosives/Bombs/Dynamite</td>\n",
       "      <td>29</td>\n",
       "    </tr>\n",
       "    <tr>\n",
       "      <th>1971</th>\n",
       "      <td>Explosives/Bombs/Dynamite</td>\n",
       "      <td>9</td>\n",
       "    </tr>\n",
       "    <tr>\n",
       "      <th>1972</th>\n",
       "      <td>Explosives/Bombs/Dynamite</td>\n",
       "      <td>33</td>\n",
       "    </tr>\n",
       "    <tr>\n",
       "      <th>1973</th>\n",
       "      <td>Explosives/Bombs/Dynamite</td>\n",
       "      <td>23</td>\n",
       "    </tr>\n",
       "    <tr>\n",
       "      <th>1974</th>\n",
       "      <td>Explosives/Bombs/Dynamite</td>\n",
       "      <td>26</td>\n",
       "    </tr>\n",
       "  </tbody>\n",
       "</table>\n",
       "</div>"
      ],
      "text/plain": [
       "                   weaptype1_txt  count\n",
       "iyear                                  \n",
       "1970   Explosives/Bombs/Dynamite     29\n",
       "1971   Explosives/Bombs/Dynamite      9\n",
       "1972   Explosives/Bombs/Dynamite     33\n",
       "1973   Explosives/Bombs/Dynamite     23\n",
       "1974   Explosives/Bombs/Dynamite     26"
      ]
     },
     "execution_count": 42,
     "metadata": {},
     "output_type": "execute_result"
    }
   ],
   "source": [
    "c_agg_civil.head()"
   ]
  },
  {
   "cell_type": "code",
   "execution_count": 43,
   "metadata": {
    "scrolled": true
   },
   "outputs": [],
   "source": [
    "ct = clean_civil.groupby(['iyear']).agg(['count'])['nkill']\n",
    "#ct = ct.rename(index=str, columns={\"count\": \"count_sum\"})"
   ]
  },
  {
   "cell_type": "code",
   "execution_count": 44,
   "metadata": {
    "scrolled": true
   },
   "outputs": [],
   "source": [
    "new = pd.DataFrame(c_agg_civil['count'].values/ct['count'].values, columns=['civil_ratio'], index=c_agg_civil.index)"
   ]
  },
  {
   "cell_type": "code",
   "execution_count": 68,
   "metadata": {},
   "outputs": [],
   "source": [
    "decade = pd.DataFrame([epoch(i) for i in new.index], columns=['decade'], index=new.index)\n",
    "\n",
    "decade_df = decade.join(new).groupby(['decade']).agg(['mean'])['civil_ratio']"
   ]
  },
  {
   "cell_type": "code",
   "execution_count": 69,
   "metadata": {},
   "outputs": [
    {
     "data": {
      "text/html": [
       "<div>\n",
       "<table border=\"1\" class=\"dataframe\">\n",
       "  <thead>\n",
       "    <tr style=\"text-align: right;\">\n",
       "      <th></th>\n",
       "      <th>mean</th>\n",
       "    </tr>\n",
       "    <tr>\n",
       "      <th>decade</th>\n",
       "      <th></th>\n",
       "    </tr>\n",
       "  </thead>\n",
       "  <tbody>\n",
       "    <tr>\n",
       "      <th>1</th>\n",
       "      <td>0.346491</td>\n",
       "    </tr>\n",
       "    <tr>\n",
       "      <th>2</th>\n",
       "      <td>0.304610</td>\n",
       "    </tr>\n",
       "    <tr>\n",
       "      <th>3</th>\n",
       "      <td>0.527306</td>\n",
       "    </tr>\n",
       "  </tbody>\n",
       "</table>\n",
       "</div>"
      ],
      "text/plain": [
       "            mean\n",
       "decade          \n",
       "1       0.346491\n",
       "2       0.304610\n",
       "3       0.527306"
      ]
     },
     "execution_count": 69,
     "metadata": {},
     "output_type": "execute_result"
    }
   ],
   "source": [
    "decade_df"
   ]
  },
  {
   "cell_type": "code",
   "execution_count": 70,
   "metadata": {},
   "outputs": [
    {
     "data": {
      "text/plain": [
       "[<matplotlib.lines.Line2D at 0x10a1a9f98>]"
      ]
     },
     "execution_count": 70,
     "metadata": {},
     "output_type": "execute_result"
    },
    {
     "data": {
      "image/png": "[encoded data removed]",
      "text/plain": [
       "<matplotlib.figure.Figure at 0x10b080da0>"
      ]
     },
     "metadata": {},
     "output_type": "display_data"
    }
   ],
   "source": [
    "plt.plot(decade_df)"
   ]
  },
  {
   "cell_type": "code",
   "execution_count": 482,
   "metadata": {},
   "outputs": [],
   "source": [
    "civil_bomb_points = [dict(x=trick(y), y=row[0]) for y, row in new.iterrows()]"
   ]
  },
  {
   "cell_type": "code",
   "execution_count": 431,
   "metadata": {},
   "outputs": [],
   "source": [
    "with open('/Users/Nicolas/Desktop/civil_bomb_points.json', 'w') as outfile:  \n",
    "    json.dump(civil_bomb_points, outfile)"
   ]
  },
  {
   "cell_type": "markdown",
   "metadata": {},
   "source": [
    "# BUBBLE CIVIL"
   ]
  },
  {
   "cell_type": "code",
   "execution_count": 483,
   "metadata": {},
   "outputs": [
    {
     "data": {
      "text/html": [
       "<div>\n",
       "<table border=\"1\" class=\"dataframe\">\n",
       "  <thead>\n",
       "    <tr style=\"text-align: right;\">\n",
       "      <th></th>\n",
       "      <th>iyear</th>\n",
       "      <th>nkill</th>\n",
       "      <th>weaptype1_txt</th>\n",
       "      <th>targtype1_txt</th>\n",
       "    </tr>\n",
       "  </thead>\n",
       "  <tbody>\n",
       "    <tr>\n",
       "      <th>0</th>\n",
       "      <td>1970</td>\n",
       "      <td>1.0</td>\n",
       "      <td>Unknown</td>\n",
       "      <td>Private Citizens &amp; Property</td>\n",
       "    </tr>\n",
       "    <tr>\n",
       "      <th>28</th>\n",
       "      <td>1970</td>\n",
       "      <td>0.0</td>\n",
       "      <td>Explosives/Bombs/Dynamite</td>\n",
       "      <td>Private Citizens &amp; Property</td>\n",
       "    </tr>\n",
       "    <tr>\n",
       "      <th>29</th>\n",
       "      <td>1970</td>\n",
       "      <td>0.0</td>\n",
       "      <td>Incendiary</td>\n",
       "      <td>Private Citizens &amp; Property</td>\n",
       "    </tr>\n",
       "    <tr>\n",
       "      <th>46</th>\n",
       "      <td>1970</td>\n",
       "      <td>0.0</td>\n",
       "      <td>Explosives/Bombs/Dynamite</td>\n",
       "      <td>Private Citizens &amp; Property</td>\n",
       "    </tr>\n",
       "    <tr>\n",
       "      <th>58</th>\n",
       "      <td>1970</td>\n",
       "      <td>0.0</td>\n",
       "      <td>Explosives/Bombs/Dynamite</td>\n",
       "      <td>Private Citizens &amp; Property</td>\n",
       "    </tr>\n",
       "  </tbody>\n",
       "</table>\n",
       "</div>"
      ],
      "text/plain": [
       "    iyear  nkill              weaptype1_txt                targtype1_txt\n",
       "0    1970    1.0                    Unknown  Private Citizens & Property\n",
       "28   1970    0.0  Explosives/Bombs/Dynamite  Private Citizens & Property\n",
       "29   1970    0.0                 Incendiary  Private Citizens & Property\n",
       "46   1970    0.0  Explosives/Bombs/Dynamite  Private Citizens & Property\n",
       "58   1970    0.0  Explosives/Bombs/Dynamite  Private Citizens & Property"
      ]
     },
     "execution_count": 483,
     "metadata": {},
     "output_type": "execute_result"
    }
   ],
   "source": [
    "clean_civil.head()"
   ]
  },
  {
   "cell_type": "code",
   "execution_count": null,
   "metadata": {},
   "outputs": [],
   "source": [
    "agg_civil = clean_civil.groupby(['iyear', 'weaptype1_txt']).agg(['count'])['nkill']"
   ]
  },
  {
   "cell_type": "markdown",
   "metadata": {},
   "source": [
    "# NB KILL"
   ]
  },
  {
   "cell_type": "code",
   "execution_count": 195,
   "metadata": {},
   "outputs": [],
   "source": [
    "groupby_nkill = clean_stacked_bar.groupby(['iyear']).sum()"
   ]
  },
  {
   "cell_type": "code",
   "execution_count": 207,
   "metadata": {},
   "outputs": [],
   "source": [
    "nkill_points = [dict(x=trick(k), y=int(v)) for k, v in groupby_nkill['nkill'].to_dict().items()]"
   ]
  },
  {
   "cell_type": "code",
   "execution_count": 200,
   "metadata": {},
   "outputs": [
    {
     "data": {
      "text/plain": [
       "[<matplotlib.lines.Line2D at 0x1132ccc18>]"
      ]
     },
     "execution_count": 200,
     "metadata": {},
     "output_type": "execute_result"
    },
    {
     "data": {
      "image/png": "[encoded data removed]",
      "text/plain": [
       "<matplotlib.figure.Figure at 0x108319e80>"
      ]
     },
     "metadata": {},
     "output_type": "display_data"
    }
   ],
   "source": [
    "plt.plot(groupby_nkill)"
   ]
  },
  {
   "cell_type": "code",
   "execution_count": 209,
   "metadata": {},
   "outputs": [],
   "source": [
    "with open('/Users/Nicolas/Desktop/nkill_points.json', 'w') as outfile:  \n",
    "    json.dump(nkill_points, outfile)"
   ]
  },
  {
   "cell_type": "markdown",
   "metadata": {},
   "source": [
    "# BY REGION"
   ]
  },
  {
   "cell_type": "code",
   "execution_count": 263,
   "metadata": {},
   "outputs": [],
   "source": [
    "groupby_br = clean_stacked_bar.groupby(['region_txt', 'iyear']).sum()"
   ]
  },
  {
   "cell_type": "code",
   "execution_count": 256,
   "metadata": {},
   "outputs": [
    {
     "data": {
      "text/plain": [
       "{'Australasia & Oceania',\n",
       " 'Central America & Caribbean',\n",
       " 'Central Asia',\n",
       " 'East Asia',\n",
       " 'Eastern Europe',\n",
       " 'Middle East & North Africa',\n",
       " 'North America',\n",
       " 'South America',\n",
       " 'South Asia',\n",
       " 'Southeast Asia',\n",
       " 'Sub-Saharan Africa',\n",
       " 'Western Europe'}"
      ]
     },
     "execution_count": 256,
     "metadata": {},
     "output_type": "execute_result"
    }
   ],
   "source": [
    "set(clean_stacked_bar['region_txt'])"
   ]
  },
  {
   "cell_type": "code",
   "execution_count": 272,
   "metadata": {},
   "outputs": [],
   "source": [
    "data_region = []\n",
    "\n",
    "for i in set(clean_stacked_bar['region_txt'].values):\n",
    "    data_region.append({\n",
    "                    'type': \"stackedArea\",\n",
    "                    'showInLegend': True,\n",
    "                    'toolTipContent': \"<span style=\\\"color:#4F81BC\\\"><strong>{name}: </strong></span> {y}\",\n",
    "                    'name': str(i),\n",
    "                    'dataPoints': [dict(x=trick(k), y=int(v)) for k, v in groupby_br.loc[i].to_dict()['nkill'].items()]\n",
    "                })"
   ]
  },
  {
   "cell_type": "code",
   "execution_count": 274,
   "metadata": {},
   "outputs": [],
   "source": [
    "with open('/Users/Nicolas/Desktop/data_region.json', 'w') as outfile:  \n",
    "    json.dump(data_region, outfile)"
   ]
  },
  {
   "cell_type": "markdown",
   "metadata": {},
   "source": [
    "# BUBBLE"
   ]
  },
  {
   "cell_type": "code",
   "execution_count": 212,
   "metadata": {},
   "outputs": [],
   "source": [
    "pop = pd.read_csv(\"/Users/Nicolas/Desktop/API_SP.POP.TOTL_DS2_fr_csv_v2/API_SP.POP.TOTL_DS2_fr_csv_v2.csv\")"
   ]
  },
  {
   "cell_type": "code",
   "execution_count": 227,
   "metadata": {},
   "outputs": [],
   "source": [
    "pop_dict = pop.sum().to_dict()\n",
    "clean_pop = []\n",
    "for i in range(1970, 2017):\n",
    "    clean_pop.append(dict(x=trick(i), y=int(pop_dict[str(i)])))"
   ]
  },
  {
   "cell_type": "code",
   "execution_count": 229,
   "metadata": {},
   "outputs": [],
   "source": [
    "with open('/Users/Nicolas/Desktop/pop.json', 'w') as outfile:  \n",
    "    json.dump(clean_pop, outfile)"
   ]
  },
  {
   "cell_type": "code",
   "execution_count": 235,
   "metadata": {},
   "outputs": [],
   "source": [
    "target = file[['nkill', 'targtype1_txt']]"
   ]
  },
  {
   "cell_type": "code",
   "execution_count": 241,
   "metadata": {
    "scrolled": true
   },
   "outputs": [],
   "source": [
    "target_gb = target.groupby(['targtype1_txt']).agg(['sum', 'count'])['nkill']"
   ]
  },
  {
   "cell_type": "code",
   "execution_count": 249,
   "metadata": {
    "scrolled": false
   },
   "outputs": [
    {
     "data": {
      "text/html": [
       "<div>\n",
       "<table border=\"1\" class=\"dataframe\">\n",
       "  <thead>\n",
       "    <tr style=\"text-align: right;\">\n",
       "      <th></th>\n",
       "      <th>sum</th>\n",
       "      <th>count</th>\n",
       "    </tr>\n",
       "    <tr>\n",
       "      <th>targtype1_txt</th>\n",
       "      <th></th>\n",
       "      <th></th>\n",
       "    </tr>\n",
       "  </thead>\n",
       "  <tbody>\n",
       "    <tr>\n",
       "      <th>Abortion Related</th>\n",
       "      <td>10.0</td>\n",
       "      <td>259</td>\n",
       "    </tr>\n",
       "    <tr>\n",
       "      <th>Airports &amp; Aircraft</th>\n",
       "      <td>3743.0</td>\n",
       "      <td>1223</td>\n",
       "    </tr>\n",
       "    <tr>\n",
       "      <th>Business</th>\n",
       "      <td>22061.0</td>\n",
       "      <td>18403</td>\n",
       "    </tr>\n",
       "    <tr>\n",
       "      <th>Educational Institution</th>\n",
       "      <td>3624.0</td>\n",
       "      <td>3992</td>\n",
       "    </tr>\n",
       "    <tr>\n",
       "      <th>Food or Water Supply</th>\n",
       "      <td>281.0</td>\n",
       "      <td>265</td>\n",
       "    </tr>\n",
       "    <tr>\n",
       "      <th>Government (Diplomatic)</th>\n",
       "      <td>2657.0</td>\n",
       "      <td>3255</td>\n",
       "    </tr>\n",
       "    <tr>\n",
       "      <th>Government (General)</th>\n",
       "      <td>24810.0</td>\n",
       "      <td>19429</td>\n",
       "    </tr>\n",
       "    <tr>\n",
       "      <th>Journalists &amp; Media</th>\n",
       "      <td>1403.0</td>\n",
       "      <td>2597</td>\n",
       "    </tr>\n",
       "    <tr>\n",
       "      <th>Maritime</th>\n",
       "      <td>1171.0</td>\n",
       "      <td>287</td>\n",
       "    </tr>\n",
       "    <tr>\n",
       "      <th>Military</th>\n",
       "      <td>96830.0</td>\n",
       "      <td>23383</td>\n",
       "    </tr>\n",
       "    <tr>\n",
       "      <th>NGO</th>\n",
       "      <td>915.0</td>\n",
       "      <td>855</td>\n",
       "    </tr>\n",
       "    <tr>\n",
       "      <th>Other</th>\n",
       "      <td>2841.0</td>\n",
       "      <td>578</td>\n",
       "    </tr>\n",
       "    <tr>\n",
       "      <th>Police</th>\n",
       "      <td>49335.0</td>\n",
       "      <td>22212</td>\n",
       "    </tr>\n",
       "    <tr>\n",
       "      <th>Private Citizens &amp; Property</th>\n",
       "      <td>129775.0</td>\n",
       "      <td>37848</td>\n",
       "    </tr>\n",
       "    <tr>\n",
       "      <th>Religious Figures/Institutions</th>\n",
       "      <td>12259.0</td>\n",
       "      <td>4073</td>\n",
       "    </tr>\n",
       "    <tr>\n",
       "      <th>Telecommunication</th>\n",
       "      <td>176.0</td>\n",
       "      <td>914</td>\n",
       "    </tr>\n",
       "    <tr>\n",
       "      <th>Terrorists/Non-State Militia</th>\n",
       "      <td>8163.0</td>\n",
       "      <td>2776</td>\n",
       "    </tr>\n",
       "    <tr>\n",
       "      <th>Tourists</th>\n",
       "      <td>745.0</td>\n",
       "      <td>410</td>\n",
       "    </tr>\n",
       "    <tr>\n",
       "      <th>Transportation</th>\n",
       "      <td>13545.0</td>\n",
       "      <td>6263</td>\n",
       "    </tr>\n",
       "    <tr>\n",
       "      <th>Unknown</th>\n",
       "      <td>3842.0</td>\n",
       "      <td>4782</td>\n",
       "    </tr>\n",
       "    <tr>\n",
       "      <th>Utilities</th>\n",
       "      <td>1804.0</td>\n",
       "      <td>5204</td>\n",
       "    </tr>\n",
       "    <tr>\n",
       "      <th>Violent Political Party</th>\n",
       "      <td>3564.0</td>\n",
       "      <td>1660</td>\n",
       "    </tr>\n",
       "  </tbody>\n",
       "</table>\n",
       "</div>"
      ],
      "text/plain": [
       "                                     sum  count\n",
       "targtype1_txt                                  \n",
       "Abortion Related                    10.0    259\n",
       "Airports & Aircraft               3743.0   1223\n",
       "Business                         22061.0  18403\n",
       "Educational Institution           3624.0   3992\n",
       "Food or Water Supply               281.0    265\n",
       "Government (Diplomatic)           2657.0   3255\n",
       "Government (General)             24810.0  19429\n",
       "Journalists & Media               1403.0   2597\n",
       "Maritime                          1171.0    287\n",
       "Military                         96830.0  23383\n",
       "NGO                                915.0    855\n",
       "Other                             2841.0    578\n",
       "Police                           49335.0  22212\n",
       "Private Citizens & Property     129775.0  37848\n",
       "Religious Figures/Institutions   12259.0   4073\n",
       "Telecommunication                  176.0    914\n",
       "Terrorists/Non-State Militia      8163.0   2776\n",
       "Tourists                           745.0    410\n",
       "Transportation                   13545.0   6263\n",
       "Unknown                           3842.0   4782\n",
       "Utilities                         1804.0   5204\n",
       "Violent Political Party           3564.0   1660"
      ]
     },
     "execution_count": 249,
     "metadata": {},
     "output_type": "execute_result"
    }
   ],
   "source": [
    "target_gb"
   ]
  },
  {
   "cell_type": "code",
   "execution_count": 250,
   "metadata": {},
   "outputs": [],
   "source": [
    "target_points = []\n",
    "for index, row in target_gb.iterrows():\n",
    "    x = np.log(row['sum'])\n",
    "    y = np.log(row['count'])\n",
    "    target_points.append(dict(x=x, y=y, z=row['sum']/row['count'], name=index))"
   ]
  },
  {
   "cell_type": "code",
   "execution_count": 251,
   "metadata": {
    "scrolled": true
   },
   "outputs": [
    {
     "data": {
      "text/plain": [
       "[{'name': 'Abortion Related',\n",
       "  'x': 2.3025850929940459,\n",
       "  'y': 5.5568280616995374,\n",
       "  'z': 0.038610038610038609},\n",
       " {'name': 'Airports & Aircraft',\n",
       "  'x': 8.2276427079044296,\n",
       "  'y': 7.1090621356871724,\n",
       "  'z': 3.0605069501226492},\n",
       " {'name': 'Business',\n",
       "  'x': 10.001566622695764,\n",
       "  'y': 9.8202689737851951,\n",
       "  'z': 1.1987719393577134},\n",
       " {'name': 'Educational Institution',\n",
       "  'x': 8.1953336671628705,\n",
       "  'y': 8.2920476374313541,\n",
       "  'z': 0.90781563126252507},\n",
       " {'name': 'Food or Water Supply',\n",
       "  'x': 5.6383546693337454,\n",
       "  'y': 5.579729825986222,\n",
       "  'z': 1.060377358490566},\n",
       " {'name': 'Government (Diplomatic)',\n",
       "  'x': 7.8849529457598138,\n",
       "  'y': 8.0879475546426693,\n",
       "  'z': 0.81628264208909374},\n",
       " {'name': 'Government (General)',\n",
       "  'x': 10.119002076685847,\n",
       "  'y': 9.8745220742431137,\n",
       "  'z': 1.2769571259457513},\n",
       " {'name': 'Journalists & Media',\n",
       "  'x': 7.246368080102461,\n",
       "  'y': 7.8621122116627484,\n",
       "  'z': 0.54023873700423564},\n",
       " {'name': 'Maritime',\n",
       "  'x': 7.0656133635977172,\n",
       "  'y': 5.6594822157596214,\n",
       "  'z': 4.0801393728222992},\n",
       " {'name': 'Military',\n",
       "  'x': 11.480712142605578,\n",
       "  'y': 10.059764541593394,\n",
       "  'z': 4.1410426378137961},\n",
       " {'name': 'NGO',\n",
       "  'x': 6.818924065275521,\n",
       "  'y': 6.7511014689367599,\n",
       "  'z': 1.0701754385964912},\n",
       " {'name': 'Other',\n",
       "  'x': 7.9519113818541882,\n",
       "  'y': 6.3595738686723777,\n",
       "  'z': 4.9152249134948098},\n",
       " {'name': 'Police',\n",
       "  'x': 10.806389047291267,\n",
       "  'y': 10.008387962361498,\n",
       "  'z': 2.2210967044840628},\n",
       " {'name': 'Private Citizens & Property',\n",
       "  'x': 11.773557460695431,\n",
       "  'y': 10.541333417310984,\n",
       "  'z': 3.4288469668146271},\n",
       " {'name': 'Religious Figures/Institutions',\n",
       "  'x': 9.4140156400949948,\n",
       "  'y': 8.3121351076484125,\n",
       "  'z': 3.009820770930518},\n",
       " {'name': 'Telecommunication',\n",
       "  'x': 5.1704839950381514,\n",
       "  'y': 6.8178305714541496,\n",
       "  'z': 0.1925601750547046},\n",
       " {'name': 'Terrorists/Non-State Militia',\n",
       "  'x': 9.0073670274513553,\n",
       "  'y': 7.9287663216266955,\n",
       "  'z': 2.9405619596541785},\n",
       " {'name': 'Tourists',\n",
       "  'x': 6.6133842183795597,\n",
       "  'y': 6.0161571596983539,\n",
       "  'z': 1.8170731707317074},\n",
       " {'name': 'Transportation',\n",
       "  'x': 9.513772754519195,\n",
       "  'y': 8.7424145825254129,\n",
       "  'z': 2.1627015807121186},\n",
       " {'name': 'Unknown',\n",
       "  'x': 8.2537483433285015,\n",
       "  'y': 8.4726141480182697,\n",
       "  'z': 0.80342952739439566},\n",
       " {'name': 'Utilities',\n",
       "  'x': 7.4977617006225685,\n",
       "  'y': 8.5571828396323966,\n",
       "  'z': 0.3466564181398924},\n",
       " {'name': 'Violent Political Party',\n",
       "  'x': 8.1786387885906997,\n",
       "  'y': 7.4145728813505887,\n",
       "  'z': 2.1469879518072288}]"
      ]
     },
     "execution_count": 251,
     "metadata": {},
     "output_type": "execute_result"
    }
   ],
   "source": [
    "target_points"
   ]
  },
  {
   "cell_type": "code",
   "execution_count": 252,
   "metadata": {},
   "outputs": [],
   "source": [
    "with open('/Users/Nicolas/Desktop/target_points.json', 'w') as outfile:  \n",
    "    json.dump(target_points, outfile)"
   ]
  }
 ],
 "metadata": {
  "kernelspec": {
   "display_name": "Python 3",
   "language": "python",
   "name": "python3"
  },
  "language_info": {
   "codemirror_mode": {
    "name": "ipython",
    "version": 3
   },
   "file_extension": ".py",
   "mimetype": "text/x-python",
   "name": "python",
   "nbconvert_exporter": "python",
   "pygments_lexer": "ipython3",
   "version": "3.6.1"
  }
 },
 "nbformat": 4,
 "nbformat_minor": 2
}
